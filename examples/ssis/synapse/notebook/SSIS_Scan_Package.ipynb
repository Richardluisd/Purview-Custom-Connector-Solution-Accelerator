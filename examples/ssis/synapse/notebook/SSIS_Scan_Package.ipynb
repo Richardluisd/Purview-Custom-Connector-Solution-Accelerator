{
  "nbformat": 4,
  "nbformat_minor": 2,
  "cells": [
    {
      "cell_type": "code",
      "execution_count": null,
      "outputs": [
        {
          "output_type": "display_data",
          "data": {
            "application/vnd.livy.statement-meta+json": {
              "spark_pool": "notebookrun",
              "session_id": 13,
              "statement_id": 75,
              "state": "finished",
              "livy_statement_state": "available",
              "queued_time": "2021-08-24T09:57:08.0436386Z",
              "session_start_time": null,
              "execution_start_time": "2021-08-24T09:57:08.3071611Z",
              "execution_finish_time": "2021-08-24T09:57:08.4562916Z"
            },
            "text/plain": "StatementMeta(notebookrun, 13, 75, Finished, Available)"
          },
          "metadata": {}
        },
        {
          "output_type": "stream",
          "name": "stdout",
          "text": ""
        }
      ],
      "metadata": {
        "jupyter": {
          "source_hidden": false,
          "outputs_hidden": false
        },
        "nteract": {
          "transient": {
            "deleting": false
          }
        },
        "collapsed": true,
        "tags": [
          "parameters"
        ]
      },
      "source": [
        "SSIS_AdlsAccountName = ''\r\n",
        "SSIS_AdlsConatinerName = ''\r\n",
        "SSIS_PackageFileName = ''\r\n",
        "SISS_AppName = ''"
      ]
    },
    {
      "cell_type": "code",
      "execution_count": null,
      "outputs": [
        {
          "output_type": "display_data",
          "data": {
            "application/vnd.livy.statement-meta+json": {
              "spark_pool": "notebookrun",
              "session_id": 22,
              "statement_id": 2,
              "state": "finished",
              "livy_statement_state": "available",
              "queued_time": "2021-08-24T14:37:57.6252587Z",
              "session_start_time": null,
              "execution_start_time": "2021-08-24T14:37:57.9137942Z",
              "execution_finish_time": "2021-08-24T14:37:58.0601821Z"
            },
            "text/plain": "StatementMeta(notebookrun, 22, 2, Finished, Available)"
          },
          "metadata": {}
        },
        {
          "output_type": "stream",
          "name": "stdout",
          "text": ""
        }
      ],
      "metadata": {},
      "source": [
        "import json\r\n",
        "import re\r\n",
        "import os\r\n",
        "from enum import Enum\r\n",
        "from pyspark.sql.utils import AnalysisException\r\n",
        "from pyspark.sql.functions import explode\r\n",
        "from pyspark.sql import SparkSession, Row\r\n",
        "from notebookutils import mssparkutils\r\n",
        "from pyspark.sql.functions import to_json"
      ]
    },
    {
      "cell_type": "code",
      "execution_count": null,
      "outputs": [
        {
          "output_type": "display_data",
          "data": {
            "application/vnd.livy.statement-meta+json": {
              "spark_pool": "notebookrun",
              "session_id": 22,
              "statement_id": 59,
              "state": "finished",
              "livy_statement_state": "available",
              "queued_time": "2021-08-24T16:16:30.9420519Z",
              "session_start_time": null,
              "execution_start_time": "2021-08-24T16:16:31.0305166Z",
              "execution_finish_time": "2021-08-24T16:16:31.5374748Z"
            },
            "text/plain": "StatementMeta(notebookrun, 22, 59, Finished, Available)"
          },
          "metadata": {}
        },
        {
          "output_type": "stream",
          "name": "stdout",
          "text": ""
        }
      ],
      "metadata": {
        "jupyter": {
          "source_hidden": false,
          "outputs_hidden": false
        },
        "nteract": {
          "transient": {
            "deleting": false
          }
        },
        "collapsed": true
      },
      "source": [
        "from pyspark.conf import SparkConf\r\n",
        "from pyspark.sql import SparkSession\r\n",
        "\r\n",
        "my_jars = os.environ.get(\"SPARK_HOME\")\r\n",
        "myconf = SparkConf()\r\n",
        "myconf.set(\"spark.jars\",\"%s/jars/log4j-1.2.17.jar\" % my_jars)\r\n",
        "spark = SparkSession\\\r\n",
        " .builder\\\r\n",
        " .appName(\"DB2_Test\")\\\r\n",
        " .config(conf = myconf) \\\r\n",
        " .getOrCreate()\r\n",
        "\r\n",
        "\r\n",
        "Logger= spark._jvm.org.apache.log4j.Logger\r\n",
        "mylogger = Logger.getLogger(SISS_AppName)"
      ]
    },
    {
      "cell_type": "code",
      "execution_count": null,
      "outputs": [
        {
          "output_type": "display_data",
          "data": {
            "application/vnd.livy.statement-meta+json": {
              "spark_pool": "notebookrun",
              "session_id": 22,
              "statement_id": 60,
              "state": "finished",
              "livy_statement_state": "available",
              "queued_time": "2021-08-24T16:16:33.2668085Z",
              "session_start_time": null,
              "execution_start_time": "2021-08-24T16:16:33.3528796Z",
              "execution_finish_time": "2021-08-24T16:16:33.50672Z"
            },
            "text/plain": "StatementMeta(notebookrun, 22, 60, Finished, Available)"
          },
          "metadata": {}
        },
        {
          "output_type": "stream",
          "name": "stdout",
          "text": "INFO: Logger started!"
        }
      ],
      "metadata": {
        "jupyter": {
          "source_hidden": false,
          "outputs_hidden": false
        },
        "nteract": {
          "transient": {
            "deleting": false
          }
        },
        "collapsed": true
      },
      "source": [
        "def log_msgs(msg_type,msg):\r\n",
        "        \r\n",
        "        if msg_type.upper() == \"ERROR\":\r\n",
        "            print('ERROR: %s' % msg)\r\n",
        "            mylogger.error(msg)\r\n",
        "        elif msg_type.upper() == \"DEBUG\":\r\n",
        "            print('DEBUG: %s' % msg)\r\n",
        "            mylogger.debug(\"Fim\")\r\n",
        "        elif msg_type.upper() == \"TRACE\":\r\n",
        "            print('TRACE: %s' % msg)\r\n",
        "            mylogger.trace(\"Fim\")\r\n",
        "        else: # INFO\r\n",
        "            print('INFO: %s' % msg)\r\n",
        "            mylogger.info(\"Fim\")\r\n",
        "\r\n",
        "log_msgs('INFO', \"Logger started!\")\r\n",
        "           "
      ]
    },
    {
      "cell_type": "code",
      "execution_count": null,
      "outputs": [
        {
          "output_type": "display_data",
          "data": {
            "application/vnd.livy.statement-meta+json": {
              "spark_pool": "notebookrun",
              "session_id": 22,
              "statement_id": 61,
              "state": "finished",
              "livy_statement_state": "available",
              "queued_time": "2021-08-24T16:16:39.4396698Z",
              "session_start_time": null,
              "execution_start_time": "2021-08-24T16:16:39.5276584Z",
              "execution_finish_time": "2021-08-24T16:16:39.6820178Z"
            },
            "text/plain": "StatementMeta(notebookrun, 22, 61, Finished, Available)"
          },
          "metadata": {}
        },
        {
          "output_type": "stream",
          "name": "stdout",
          "text": ""
        }
      ],
      "metadata": {
        "jupyter": {
          "source_hidden": false,
          "outputs_hidden": false
        },
        "nteract": {
          "transient": {
            "deleting": false
          }
        },
        "collapsed": true
      },
      "source": [
        "if SSIS_AdlsAccountName == '':\r\n",
        "    log_msgs('ERROR',\"SSIS_AdlsAccountName not configured\")\r\n",
        "if SSIS_AdlsConatinerName == '':\r\n",
        "    log_msgs('ERROR',\"SSIS_AdlsConatinerName not configured\")\r\n",
        "if SSIS_PackageFileName == '':\r\n",
        "    log_msgs('ERROR',\"SSIS_AdlsConatinerName not configured\")"
      ]
    },
    {
      "cell_type": "code",
      "execution_count": null,
      "outputs": [
        {
          "output_type": "display_data",
          "data": {
            "application/vnd.livy.statement-meta+json": {
              "spark_pool": "notebookrun",
              "session_id": 22,
              "statement_id": 62,
              "state": "finished",
              "livy_statement_state": "available",
              "queued_time": "2021-08-24T16:16:42.7962527Z",
              "session_start_time": null,
              "execution_start_time": "2021-08-24T16:16:42.886389Z",
              "execution_finish_time": "2021-08-24T16:16:43.0339289Z"
            },
            "text/plain": "StatementMeta(notebookrun, 22, 62, Finished, Available)"
          },
          "metadata": {}
        },
        {
          "output_type": "stream",
          "name": "stdout",
          "text": ""
        }
      ],
      "metadata": {
        "jupyter": {
          "source_hidden": false,
          "outputs_hidden": false
        },
        "nteract": {
          "transient": {
            "deleting": false
          }
        },
        "collapsed": true
      },
      "source": [
        "# Template names\r\n",
        "package_template_nm = 'legacy_ssis_package_template.json'\r\n",
        "process_template_nm = 'legacy_ssis_package_process_template.json'"
      ]
    },
    {
      "cell_type": "code",
      "execution_count": null,
      "outputs": [
        {
          "output_type": "display_data",
          "data": {
            "application/vnd.livy.statement-meta+json": {
              "spark_pool": "notebookrun",
              "session_id": 22,
              "statement_id": 63,
              "state": "finished",
              "livy_statement_state": "available",
              "queued_time": "2021-08-24T16:16:45.2955565Z",
              "session_start_time": null,
              "execution_start_time": "2021-08-24T16:16:45.3845649Z",
              "execution_finish_time": "2021-08-24T16:16:45.5338549Z"
            },
            "text/plain": "StatementMeta(notebookrun, 22, 63, Finished, Available)"
          },
          "metadata": {}
        },
        {
          "output_type": "stream",
          "name": "stdout",
          "text": ""
        }
      ],
      "metadata": {
        "jupyter": {
          "source_hidden": false,
          "outputs_hidden": false
        },
        "nteract": {
          "transient": {
            "deleting": false
          }
        },
        "collapsed": true
      },
      "source": [
        "# Paths for SSIS files\r\n",
        "package_path = 'abfss://' + SSIS_AdlsConatinerName + '@' + SSIS_AdlsAccountName + '.dfs.core.windows.net/pccsa_main/ssis-connector/working/' + SSIS_PackageFileName\r\n",
        "param_path = 'abfss://' + SSIS_AdlsConatinerName + '@' + SSIS_AdlsAccountName + '.dfs.core.windows.net/pccsa_main/ssis-connector/ssis-package/pulled_params.txt'\r\n",
        "connection_path = 'abfss://' + SSIS_AdlsConatinerName + '@' + SSIS_AdlsAccountName + '.dfs.core.windows.net/pccsa_main/ssis-connector/working/*.conmgr.json'\r\n",
        ""
      ]
    },
    {
      "cell_type": "code",
      "execution_count": null,
      "outputs": [
        {
          "output_type": "display_data",
          "data": {
            "application/vnd.livy.statement-meta+json": {
              "spark_pool": "notebookrun",
              "session_id": 22,
              "statement_id": 64,
              "state": "finished",
              "livy_statement_state": "available",
              "queued_time": "2021-08-24T16:16:48.3676863Z",
              "session_start_time": null,
              "execution_start_time": "2021-08-24T16:16:48.4476977Z",
              "execution_finish_time": "2021-08-24T16:16:48.6015108Z"
            },
            "text/plain": "StatementMeta(notebookrun, 22, 64, Finished, Available)"
          },
          "metadata": {}
        },
        {
          "output_type": "stream",
          "name": "stdout",
          "text": ""
        }
      ],
      "metadata": {
        "jupyter": {
          "source_hidden": false,
          "outputs_hidden": false
        },
        "nteract": {
          "transient": {
            "deleting": false
          }
        },
        "collapsed": true
      },
      "source": [
        "# Paths for Purview type templates and results storage\r\n",
        "template_path = 'abfss://' + SSIS_AdlsConatinerName + '@' + SSIS_AdlsAccountName + '.dfs.core.windows.net/pccsa_main/ssis-connector/ssis-type-templates/'\r\n",
        "result_blob_path = 'abfss://' + SSIS_AdlsConatinerName + '@' + SSIS_AdlsAccountName + '.dfs.core.windows.net/pccsa_main/incoming/results1.json'"
      ]
    },
    {
      "cell_type": "markdown",
      "metadata": {
        "nteract": {
          "transient": {
            "deleting": false
          }
        }
      },
      "source": [
        "## Pull SSIS Package"
      ]
    },
    {
      "cell_type": "code",
      "execution_count": null,
      "outputs": [
        {
          "output_type": "display_data",
          "data": {
            "application/vnd.livy.statement-meta+json": {
              "spark_pool": "notebookrun",
              "session_id": 22,
              "statement_id": 65,
              "state": "finished",
              "livy_statement_state": "available",
              "queued_time": "2021-08-24T16:16:52.4938542Z",
              "session_start_time": null,
              "execution_start_time": "2021-08-24T16:16:52.5789689Z",
              "execution_finish_time": "2021-08-24T16:16:57.8417395Z"
            },
            "text/plain": "StatementMeta(notebookrun, 22, 65, Finished, Available)"
          },
          "metadata": {}
        },
        {
          "output_type": "stream",
          "name": "stdout",
          "text": ""
        }
      ],
      "metadata": {
        "jupyter": {
          "source_hidden": false,
          "outputs_hidden": false
        },
        "nteract": {
          "transient": {
            "deleting": false
          }
        },
        "collapsed": true
      },
      "source": [
        "# Read in dataframes from json\r\n",
        "package_df = spark.read.option(\"multiLine\", \"true\").load(package_path, format='json')\r\n",
        "params_df = spark.read.load(param_path, format='csv',header = True,inferSchema = True)"
      ]
    },
    {
      "cell_type": "code",
      "execution_count": null,
      "outputs": [
        {
          "output_type": "display_data",
          "data": {
            "application/vnd.livy.statement-meta+json": {
              "spark_pool": "notebookrun",
              "session_id": 22,
              "statement_id": 66,
              "state": "finished",
              "livy_statement_state": "available",
              "queued_time": "2021-08-24T16:16:55.9450246Z",
              "session_start_time": null,
              "execution_start_time": "2021-08-24T16:16:57.9267554Z",
              "execution_finish_time": "2021-08-24T16:16:58.0740398Z"
            },
            "text/plain": "StatementMeta(notebookrun, 22, 66, Finished, Available)"
          },
          "metadata": {}
        },
        {
          "output_type": "stream",
          "name": "stdout",
          "text": ""
        }
      ],
      "metadata": {
        "jupyter": {
          "source_hidden": false,
          "outputs_hidden": false
        },
        "nteract": {
          "transient": {
            "deleting": false
          }
        },
        "collapsed": true
      },
      "source": [
        "def get_parameter_values(package: package_df, params: params_df):\r\n",
        "    # Retrieves name / value dictionary of parameters from SSIS package + parameters SSISDB output\r\n",
        "    try:\r\n",
        "        c_params = params_df.toJSON().collect()\r\n",
        "        d_param = {}\r\n",
        "        for param in c_params:\r\n",
        "            dict_p = json.loads(param)\r\n",
        "            param_name = dict_p[\"parameter_name\"]\r\n",
        "            if (param_name[0:3] == 'CM.'):\r\n",
        "                param_name = param_name[3:]\r\n",
        "            d_param[param_name] = dict_p[\"parameter_value\"]\r\n",
        "    except AnalysisException:\r\n",
        "        # This package seems to have no parameters\r\n",
        "        return {}\r\n",
        "    return d_param"
      ]
    },
    {
      "cell_type": "code",
      "execution_count": null,
      "outputs": [
        {
          "output_type": "display_data",
          "data": {
            "application/vnd.livy.statement-meta+json": {
              "spark_pool": "notebookrun",
              "session_id": 22,
              "statement_id": 67,
              "state": "finished",
              "livy_statement_state": "available",
              "queued_time": "2021-08-24T16:17:01.6457008Z",
              "session_start_time": null,
              "execution_start_time": "2021-08-24T16:17:01.7326464Z",
              "execution_finish_time": "2021-08-24T16:17:02.7791516Z"
            },
            "text/plain": "StatementMeta(notebookrun, 22, 67, Finished, Available)"
          },
          "metadata": {}
        },
        {
          "output_type": "stream",
          "name": "stdout",
          "text": ""
        }
      ],
      "metadata": {
        "jupyter": {
          "source_hidden": false,
          "outputs_hidden": false
        },
        "nteract": {
          "transient": {
            "deleting": false
          }
        },
        "collapsed": true
      },
      "source": [
        "# convert dataframes\r\n",
        "package_json = json.loads(package_df.toJSON().collect()[0])\r\n",
        "package_params = get_parameter_values(package_df, params_df)"
      ]
    },
    {
      "cell_type": "markdown",
      "metadata": {
        "nteract": {
          "transient": {
            "deleting": false
          }
        }
      },
      "source": [
        "## Extract SSIS Package Data"
      ]
    },
    {
      "cell_type": "code",
      "execution_count": null,
      "outputs": [
        {
          "output_type": "display_data",
          "data": {
            "application/vnd.livy.statement-meta+json": {
              "spark_pool": "notebookrun",
              "session_id": 22,
              "statement_id": 69,
              "state": "finished",
              "livy_statement_state": "available",
              "queued_time": "2021-08-24T16:17:16.8942566Z",
              "session_start_time": null,
              "execution_start_time": "2021-08-24T16:17:16.9857144Z",
              "execution_finish_time": "2021-08-24T16:17:17.1311613Z"
            },
            "text/plain": "StatementMeta(notebookrun, 22, 69, Finished, Available)"
          },
          "metadata": {}
        },
        {
          "output_type": "display_data",
          "data": {
            "text/plain": "'Package\\\\Data Flow Task\\\\Customers SQL MI'"
          },
          "metadata": {}
        },
        {
          "output_type": "execute_result",
          "data": {},
          "execution_count": 156,
          "metadata": {}
        }
      ],
      "metadata": {
        "jupyter": {
          "source_hidden": false,
          "outputs_hidden": false
        },
        "nteract": {
          "transient": {
            "deleting": false
          }
        },
        "collapsed": true
      },
      "source": [
        "# Grouping string manipulations\r\n",
        "# Examples:\r\n",
        "# REFERENCE_ID: input = 'Package\\\\Data Flow Task\\\\Customers SQL MI.Inputs[OLE DB Destination Input]'\r\n",
        "#   output = 'Package\\\\Data Flow Task\\\\Customers SQL MI'\r\n",
        "# PACKAGE_PROPERTIES: input =  '@[$Package::BlobName]'\r\n",
        "#   output = 'BlobName'\r\n",
        "# CONMGR_TYPE: input = 'Package.ConnectionManagers[SSIS Connection Manager for Azure Storage]'\r\n",
        "#   output = 'Package.'\r\n",
        "# CONMGR_CON: input = 'Project.ConnectionManagers[purview-sqlmi.public.1ff9b19f84fa.database.windows.net,3342.purview-sqlmi-db.sqladmin]'\r\n",
        "#   output = 'purview-sqlmi.public.1ff9b19f84fa.database.windows.net,3342.purview-sqlmi-db.sqladmin'\r\n",
        "\r\n",
        "\r\n",
        "class string_type (Enum):\r\n",
        "    PARAM_SEARCH = 0\r\n",
        "    REFERENCE_ID = 1\r\n",
        "    PACKAGE_PROPERTIES = 2\r\n",
        "    CONMGR_TYPE = 3\r\n",
        "    CONMGR_CON = 4\r\n",
        "\r\n",
        "\r\n",
        "def transform_string(manip_type, t_string):\r\n",
        "    if manip_type == string_type.REFERENCE_ID:\r\n",
        "        return re.search('(.+)\\.',t_string).group(1)\r\n",
        "    if manip_type == string_type.PACKAGE_PROPERTIES:\r\n",
        "        return re.search('(?<=::)(.*)(?=\\])',t_string).group()\r\n",
        "    if manip_type == string_type.CONMGR_TYPE:\r\n",
        "        return re.search('.+\\.',t_string).group()\r\n",
        "    if manip_type == string_type.CONMGR_CON:\r\n",
        "        return re.search('\\[(.*?)\\]',t_string).group(1)\r\n",
        "\r\n",
        "# tests\r\n",
        "transform_string(string_type.REFERENCE_ID, \"Package\\\\Data Flow Task\\\\Customers SQL MI.Inputs[OLE DB Destination Input]\")"
      ]
    },
    {
      "cell_type": "code",
      "execution_count": null,
      "outputs": [
        {
          "output_type": "display_data",
          "data": {
            "application/vnd.livy.statement-meta+json": {
              "spark_pool": "notebookrun",
              "session_id": 22,
              "statement_id": 70,
              "state": "finished",
              "livy_statement_state": "available",
              "queued_time": "2021-08-24T16:17:26.2865182Z",
              "session_start_time": null,
              "execution_start_time": "2021-08-24T16:17:26.3851136Z",
              "execution_finish_time": "2021-08-24T16:17:26.5308765Z"
            },
            "text/plain": "StatementMeta(notebookrun, 22, 70, Finished, Available)"
          },
          "metadata": {}
        },
        {
          "output_type": "stream",
          "name": "stdout",
          "text": ""
        }
      ],
      "metadata": {
        "jupyter": {
          "source_hidden": false,
          "outputs_hidden": false
        },
        "nteract": {
          "transient": {
            "deleting": false
          }
        },
        "collapsed": true
      },
      "source": [
        "def get_ssis_property(package, component, property_name, params):\r\n",
        "    prop_val = None\r\n",
        "    for prop in component[\"properties\"][\"property\"]:\r\n",
        "        if prop[\"@name\"] == property_name:\r\n",
        "            try:\r\n",
        "                prop_val = prop[\"_value_\"]\r\n",
        "            except KeyError:\r\n",
        "                # no value indicates that it is possibly an SSIS parameter check here\r\n",
        "                if params:\r\n",
        "                    package_props = package[\"DTS:Executable\"][\"DTS:Executables\"][\"DTS:Executable\"][\"DTS:PropertyExpression\"]\r\n",
        "                    for p in package_props:\r\n",
        "                        if p[\"DTS:@Name\"] == \"[\" + component[\"@name\"] + \"].[\" + prop[\"@name\"] + \"]\":\r\n",
        "                            prop_val = params[transform_string(string_type.PACKAGE_PROPERTIES,p[\"_value_\"])]\r\n",
        "    return prop_val"
      ]
    },
    {
      "cell_type": "code",
      "execution_count": null,
      "outputs": [
        {
          "output_type": "display_data",
          "data": {
            "application/vnd.livy.statement-meta+json": {
              "spark_pool": "notebookrun",
              "session_id": 22,
              "statement_id": 96,
              "state": "finished",
              "livy_statement_state": "available",
              "queued_time": "2021-08-24T16:53:17.9963205Z",
              "session_start_time": null,
              "execution_start_time": "2021-08-24T16:53:18.1140127Z",
              "execution_finish_time": "2021-08-24T16:53:18.2640334Z"
            },
            "text/plain": "StatementMeta(notebookrun, 22, 96, Finished, Available)"
          },
          "metadata": {}
        },
        {
          "output_type": "stream",
          "name": "stdout",
          "text": "{'Data Source': '20.206.80.219', 'User ID': 'vmadmin', 'Initial Catalog': 'purview-sqlmi-db', 'Provider': 'SQLNCLI11.1', 'Auto Translate': 'False'}"
        }
      ],
      "metadata": {
        "jupyter": {
          "source_hidden": false,
          "outputs_hidden": false
        },
        "nteract": {
          "transient": {
            "deleting": false
          }
        },
        "collapsed": true
      },
      "source": [
        "def connection_string_to_dictionary(constr):\r\n",
        "    output = {}\r\n",
        "    nm_vals = constr.split(';')\r\n",
        "    for nm_val in nm_vals:\r\n",
        "        if nm_val != '':\r\n",
        "            list_nm_and_val = nm_val.split('=')\r\n",
        "            output[list_nm_and_val[0]] = list_nm_and_val[1]\r\n",
        "    return output"
      ]
    },
    {
      "cell_type": "code",
      "execution_count": null,
      "outputs": [
        {
          "output_type": "display_data",
          "data": {
            "application/vnd.livy.statement-meta+json": {
              "spark_pool": "notebookrun",
              "session_id": 22,
              "statement_id": 102,
              "state": "finished",
              "livy_statement_state": "available",
              "queued_time": "2021-08-24T17:16:05.8038825Z",
              "session_start_time": null,
              "execution_start_time": "2021-08-24T17:16:05.9081798Z",
              "execution_finish_time": "2021-08-24T17:16:06.0540887Z"
            },
            "text/plain": "StatementMeta(notebookrun, 22, 102, Finished, Available)"
          },
          "metadata": {}
        },
        {
          "output_type": "stream",
          "name": "stdout",
          "text": ""
        }
      ],
      "metadata": {
        "jupyter": {
          "source_hidden": false,
          "outputs_hidden": false
        },
        "nteract": {
          "transient": {
            "deleting": false
          }
        },
        "collapsed": true
      },
      "source": [
        "def get_mappings(package, params):\r\n",
        "    # package = package_json\r\n",
        "    # params = package_params\r\n",
        "    ds_map = {}\r\n",
        "    ds_map[\"DatasetMapping\"] = {}\r\n",
        "    src_clmn = '*'\r\n",
        "\r\n",
        "    connections = []\r\n",
        "\r\n",
        "    components = package[\"DTS:Executable\"][\"DTS:Executables\"][\"DTS:Executable\"][\"DTS:ObjectData\"]\\\r\n",
        "                                            [\"pipeline\"][\"components\"][\"component\"]\r\n",
        "\r\n",
        "    # Need to loop through paths and figure out how to create multiple outputs in lineage\r\n",
        "\r\n",
        "    for component in components:\r\n",
        "        conmgrRefId = component[\"connections\"][\"connection\"][\"@connectionManagerRefId\"]\r\n",
        "        if transform_string(string_type.CONMGR_TYPE,conmgrRefId) == \"Package.\":\r\n",
        "            connection = transform_string(string_type.CONMGR_CON,conmgrRefId)\r\n",
        "            if connection + '.ConnectionString' in params:\r\n",
        "                conStr = params[connection + '.ConnectionString']\r\n",
        "            else:\r\n",
        "                for con in package[\"DTS:Executable\"][\"DTS:ConnectionManagers\"][\"DTS:ConnectionManager\"]:\r\n",
        "                    if con[\"DTS:@refId\"] == conmgrRefId:\r\n",
        "                        if con[\"DTS:@CreationName\"] == \"OLEDB\":\r\n",
        "                            conStr = con[\"DTS:ObjectData\"][\"DTS:ConnectionManager\"][\"DTS:@ConnectionString\"]\r\n",
        "                        elif con[\"DTS:@CreationName\"] == \"AzureStorage\":\r\n",
        "                            conStr = con[\"DTS:ObjectData\"][\"AzureStorageConnectionManager\"][\"@ConnectionString\"]\r\n",
        "        else:\r\n",
        "            conStr = transform_string(string_type.CONMGR_CON, conmgrRefId)\r\n",
        "        if component[\"@name\"] == \"Azure Blob Source\":\r\n",
        "            blob_name = get_ssis_property(package_json, component, \"Blob Name\", params)\r\n",
        "            blob_container = get_ssis_property(package_json, component, \"Blob Container\", params)\r\n",
        "            # returns a dictionary e.g. input = \"AccountName=purviewaccdl;DefaultEndpointsProtocol=https\" output = {'AccountName':'purviewaccdl','DefaultEndpointsProtocol':'https'}\r\n",
        "            con_props = dict(x.split(\"=\") for x in re.split(\";\",conStr[:-1]))\r\n",
        "            ds_map[\"DatasetMapping\"][\"Source\"] = con_props[\"DefaultEndpointsProtocol\"] + \"://\" + con_props[\"AccountName\"] + \".blob.\" + con_props[\"EndpointSuffix\"] + \"/\" \\\r\n",
        "                                                + blob_container + \"/\" + blob_name.strip()\r\n",
        "            #ds_map[\"DatasetMapping\"][\"Source\"] = src_clmn\r\n",
        "        if component[\"@name\"] == \"OLE DB Destination\":\r\n",
        "            tbl = params[\"Table\"]\r\n",
        "            tbl = tbl.replace('[', '')\r\n",
        "            tbl = tbl.replace(']', '')\r\n",
        "            tbl = tbl.replace('.', '/')\r\n",
        "            con_dict = connection_string_to_dictionary(conStr)\r\n",
        "            source_string = \"mssql://\" + con_dict['Data Source'] + \"/\" + con_dict['Initial Catalog'] + \"/\" + tbl\r\n",
        "            ds_map[\"DatasetMapping\"][\"Sink\"] = source_string\r\n",
        "            ds_map[\"ColumnMapping\"] = []\r\n",
        "            columns = component[\"inputs\"][\"input\"][\"inputColumns\"][\"inputColumn\"]\r\n",
        "            for col in columns:\r\n",
        "                src_col = col[\"@cachedName\"]\r\n",
        "                dst_col = col[\"@lineageId\"]\r\n",
        "                dst_col = dst_col[dst_col.rfind('[')+1:-1]\r\n",
        "                ds_map[\"ColumnMapping\"].append({\"Source\": src_col,\"Sink\": dst_col})\r\n",
        "\r\n",
        "    return [ds_map]\r\n",
        "    # print(ds_map)"
      ]
    },
    {
      "cell_type": "markdown",
      "metadata": {
        "nteract": {
          "transient": {
            "deleting": false
          }
        }
      },
      "source": [
        "## Transform Purview Templates"
      ]
    },
    {
      "cell_type": "code",
      "execution_count": null,
      "outputs": [
        {
          "output_type": "display_data",
          "data": {
            "application/vnd.livy.statement-meta+json": {
              "spark_pool": "notebookrun",
              "session_id": 22,
              "statement_id": 85,
              "state": "finished",
              "livy_statement_state": "available",
              "queued_time": "2021-08-24T16:29:26.8679541Z",
              "session_start_time": null,
              "execution_start_time": "2021-08-24T16:29:26.9528994Z",
              "execution_finish_time": "2021-08-24T16:29:29.6929179Z"
            },
            "text/plain": "StatementMeta(notebookrun, 22, 85, Finished, Available)"
          },
          "metadata": {}
        },
        {
          "output_type": "stream",
          "name": "stdout",
          "text": ""
        }
      ],
      "metadata": {
        "jupyter": {
          "source_hidden": false,
          "outputs_hidden": false
        },
        "nteract": {
          "transient": {
            "deleting": false
          }
        },
        "collapsed": false
      },
      "source": [
        "# Get output templates\r\n",
        "purview_package_df = spark.read.option(\"multiLine\", \"true\").load(template_path + package_template_nm, format='json')\r\n",
        "purview_package_process_df = spark.read.option(\"multiLine\", \"true\").load(template_path + process_template_nm, format='json')"
      ]
    },
    {
      "cell_type": "code",
      "execution_count": null,
      "outputs": [
        {
          "output_type": "display_data",
          "data": {
            "application/vnd.livy.statement-meta+json": {
              "spark_pool": "notebookrun",
              "session_id": 22,
              "statement_id": 86,
              "state": "finished",
              "livy_statement_state": "available",
              "queued_time": "2021-08-24T16:29:44.5765558Z",
              "session_start_time": null,
              "execution_start_time": "2021-08-24T16:29:44.6635822Z",
              "execution_finish_time": "2021-08-24T16:29:45.7066175Z"
            },
            "text/plain": "StatementMeta(notebookrun, 22, 86, Finished, Available)"
          },
          "metadata": {}
        },
        {
          "output_type": "stream",
          "name": "stdout",
          "text": ""
        }
      ],
      "metadata": {
        "jupyter": {
          "source_hidden": false,
          "outputs_hidden": false
        },
        "nteract": {
          "transient": {
            "deleting": false
          }
        },
        "collapsed": true
      },
      "source": [
        "# convert DataFrames to JSON objects\r\n",
        "purview_package_json = json.loads(purview_package_df.toJSON().collect()[0])\r\n",
        "purview_package_process_json = json.loads(purview_package_process_df.toJSON().collect()[0])"
      ]
    },
    {
      "cell_type": "code",
      "execution_count": null,
      "outputs": [
        {
          "output_type": "display_data",
          "data": {
            "application/vnd.livy.statement-meta+json": {
              "spark_pool": "notebookrun",
              "session_id": 22,
              "statement_id": 103,
              "state": "finished",
              "livy_statement_state": "available",
              "queued_time": "2021-08-24T17:16:16.1818383Z",
              "session_start_time": null,
              "execution_start_time": "2021-08-24T17:16:16.2725055Z",
              "execution_finish_time": "2021-08-24T17:16:16.4231984Z"
            },
            "text/plain": "StatementMeta(notebookrun, 22, 103, Finished, Available)"
          },
          "metadata": {}
        },
        {
          "output_type": "stream",
          "name": "stdout",
          "text": ""
        }
      ],
      "metadata": {
        "jupyter": {
          "source_hidden": false,
          "outputs_hidden": false
        },
        "nteract": {
          "transient": {
            "deleting": false
          }
        },
        "collapsed": true
      },
      "source": [
        "def transform(source, process_template, package_template):\r\n",
        "    # Note: this 'hello world' example is designed for clarity and easy customization in a PoC / MVP. \r\n",
        "    # ToDo: Make these pipeline variables \r\n",
        "    package_type = \"legacy_ssis_package\"\r\n",
        "    package_process_type = \"legacy_ssis_package_process\"\r\n",
        "    package_fqn = \"ssisleg://ssis_legacy.net/adflineage/PurviewSSISTest/SSIS_Movie_Loader_package_3\"\r\n",
        "    package_process_fqn = \"ssisleg://ssis_legacy.net/adflineage/PurviewSSISTest/Data_Flow_Task\"\r\n",
        "\r\n",
        "    # source FQN, destination FQN, Column mappings string\r\n",
        "    in_out_map = get_mappings(package_json, package_params)[0]\r\n",
        "\r\n",
        "    # Apply mappings legacy_ssis_package_mapping\r\n",
        "    package_template[\"attributes\"][\"name\"] = source[\"DTS:Executable\"][\"DTS:@ObjectName\"]\r\n",
        "    package_template[\"attributes\"][\"description\"] = source[\"DTS:Executable\"][\"DTS:@ExecutableType\"]\r\n",
        "    package_template[\"attributes\"][\"description\"] = source[\"DTS:Executable\"][\"DTS:@ExecutableType\"]\r\n",
        "    package_template[\"attributes\"][\"qualifiedName\"] = package_fqn\r\n",
        "    package_template[\"typeName\"] = package_type\r\n",
        "\r\n",
        "    # Apply mappings legacy_ssis_package_process_mapping\r\n",
        "    process_template[\"attributes\"][\"qualifiedName\"] = package_process_fqn\r\n",
        "    process_template[\"attributes\"][\"name\"] = source[\"DTS:Executable\"][\"DTS:Executables\"][\"DTS:Executable\"][\"DTS:@ObjectName\"]\r\n",
        "    process_template[\"attributes\"][\"inputs\"][0][\"uniqueAttributes\"][\"qualifiedName\"] = in_out_map[\"DatasetMapping\"][\"Source\"]\r\n",
        "    process_template[\"attributes\"][\"outputs\"][0][\"uniqueAttributes\"][\"qualifiedName\"] = in_out_map[\"DatasetMapping\"][\"Sink\"]\r\n",
        "    process_template[\"relationshipAttributes\"][\"inputs\"][0][\"displayText\"] = source[\"DTS:Executable\"][\"DTS:Executables\"][\"DTS:Executable\"][\"DTS:ObjectData\"][\"pipeline\"][\"components\"][\"component\"][0][\"@description\"]\r\n",
        "    process_template[\"relationshipAttributes\"][\"inputs\"][0][\"qualifiedName\"] = in_out_map[\"DatasetMapping\"][\"Source\"]\r\n",
        "    process_template[\"relationshipAttributes\"][\"outputs\"][0][\"displayText\"] = source[\"DTS:Executable\"][\"DTS:Executables\"][\"DTS:Executable\"][\"DTS:ObjectData\"][\"pipeline\"][\"components\"][\"component\"][1][\"@description\"]\r\n",
        "    process_template[\"relationshipAttributes\"][\"outputs\"][0][\"qualifiedName\"] = in_out_map[\"DatasetMapping\"][\"Sink\"]\r\n",
        "    process_template[\"relationshipAttributes\"][\"parent\"][\"displayText\"] = source[\"DTS:Executable\"][\"DTS:Executables\"][\"DTS:Executable\"][\"DTS:@refId\"]\r\n",
        "    # Need to substitue '*' for source - todo change this\r\n",
        "    mystr = json.dumps([in_out_map])\r\n",
        "    mystr = mystr.replace(\"https://purviewaccdl.blob.core.windows.net/sourcefiles/Movies.csv\", \"*\")\r\n",
        "\r\n",
        "    process_template[\"attributes\"][\"columnMapping\"] = mystr\r\n",
        "    #process_template[\"attributes\"][\"columnMapping\"] = json.dumps([in_out_map])\r\n",
        "    process_template[\"typeName\"] = package_process_type\r\n",
        "\r\n",
        "\r\n",
        "    return package_template, process_template\r\n",
        ""
      ]
    },
    {
      "cell_type": "code",
      "execution_count": null,
      "outputs": [
        {
          "output_type": "display_data",
          "data": {
            "application/vnd.livy.statement-meta+json": {
              "spark_pool": "notebookrun",
              "session_id": 22,
              "statement_id": 106,
              "state": "finished",
              "livy_statement_state": "available",
              "queued_time": "2021-08-24T17:16:57.2663545Z",
              "session_start_time": null,
              "execution_start_time": "2021-08-24T17:16:57.3582392Z",
              "execution_finish_time": "2021-08-24T17:16:57.5010675Z"
            },
            "text/plain": "StatementMeta(notebookrun, 22, 106, Finished, Available)"
          },
          "metadata": {}
        },
        {
          "output_type": "stream",
          "name": "stdout",
          "text": ""
        }
      ],
      "metadata": {
        "jupyter": {
          "source_hidden": false,
          "outputs_hidden": false
        },
        "nteract": {
          "transient": {
            "deleting": false
          }
        },
        "collapsed": true
      },
      "source": [
        "# run the transformation then package up the results to write to file\r\n",
        "package_transformed, package_process_transformed = transform(package_json,purview_package_process_json,purview_package_json)\r\n",
        "concat_transform = [package_transformed,package_process_transformed]\r\n",
        "concat_transform_str = json.dumps(concat_transform)"
      ]
    },
    {
      "cell_type": "code",
      "execution_count": null,
      "outputs": [
        {
          "output_type": "display_data",
          "data": {
            "application/vnd.livy.statement-meta+json": {
              "spark_pool": "notebookrun",
              "session_id": 22,
              "statement_id": 107,
              "state": "finished",
              "livy_statement_state": "available",
              "queued_time": "2021-08-24T17:17:00.1536502Z",
              "session_start_time": null,
              "execution_start_time": "2021-08-24T17:17:00.2532469Z",
              "execution_finish_time": "2021-08-24T17:17:00.4109338Z"
            },
            "text/plain": "StatementMeta(notebookrun, 22, 107, Finished, Available)"
          },
          "metadata": {}
        },
        {
          "output_type": "stream",
          "name": "stdout",
          "text": "TRACE: [{\"attributes\": {\"description\": \"Microsoft.Package\", \"lastRunTime\": \"\", \"name\": \"Package\", \"qualifiedName\": \"ssisleg://ssis_legacy.net/adflineage/PurviewSSISTest/SSIS_Movie_Loader_package_3\"}, \"typeName\": \"legacy_ssis_package\"}, {\"attributes\": {\"columnMapping\": \"[{\\\"DatasetMapping\\\": {\\\"Source\\\": \\\"https://pccsastorage2732136.blob.core.windows.net/pccsa/pccsa_main/ssis-connector/example-data/MovCustomers.csv\\\", \\\"Sink\\\": \\\"mssql://20.206.80.219/purview-sqlmi-db/dbo/MovCustomers\\\"}, \\\"ColumnMapping\\\": [{\\\"Source\\\": \\\"Customer_ID\\\", \\\"Sink\\\": \\\"Customer_ID\\\"}, {\\\"Source\\\": \\\"Last_Name\\\", \\\"Sink\\\": \\\"Last_Name\\\"}, {\\\"Source\\\": \\\"First_Name\\\", \\\"Sink\\\": \\\"First_Name\\\"}, {\\\"Source\\\": \\\"Addr_1\\\", \\\"Sink\\\": \\\"Addr_1\\\"}, {\\\"Source\\\": \\\"Addr_2\\\", \\\"Sink\\\": \\\"Addr_2\\\"}, {\\\"Source\\\": \\\"City\\\", \\\"Sink\\\": \\\"City\\\"}, {\\\"Source\\\": \\\"State\\\", \\\"Sink\\\": \\\"State\\\"}, {\\\"Source\\\": \\\"Zip_Code\\\", \\\"Sink\\\": \\\"Zip_Code\\\"}, {\\\"Source\\\": \\\"Phone_Number\\\", \\\"Sink\\\": \\\"Phone_Number\\\"}, {\\\"Source\\\": \\\"Created_Date\\\", \\\"Sink\\\": \\\"Created_Date\\\"}, {\\\"Source\\\": \\\"Updated_Date\\\", \\\"Sink\\\": \\\"Updated_Date\\\"}]}]\", \"inputs\": [{\"uniqueAttributes\": {\"qualifiedName\": \"https://pccsastorage2732136.blob.core.windows.net/pccsa/pccsa_main/ssis-connector/example-data/MovCustomers.csv\"}}], \"name\": \"Data Flow Task\", \"outputs\": [{\"uniqueAttributes\": {\"qualifiedName\": \"mssql://20.206.80.219/purview-sqlmi-db/dbo/MovCustomers\"}}], \"qualifiedName\": \"ssisleg://ssis_legacy.net/adflineage/PurviewSSISTest/Data_Flow_Task\"}, \"relationshipAttributes\": {\"inputs\": [{\"displayText\": \"Extracts data from a blob in Azure Storage. The supported file formats are: Text and Avro. To work with Azure Data Lake Storage Gen2, use Flexible File Source with Azure Storage Connection Manager instead.\", \"entityStatus\": \"ACTIVE\", \"qualifiedName\": \"https://pccsastorage2732136.blob.core.windows.net/pccsa/pccsa_main/ssis-connector/example-data/MovCustomers.csv\"}], \"outputs\": [{\"displayText\": \"OLE DB Destination\", \"entityStatus\": \"ACTIVE\", \"qualifiedName\": \"mssql://20.206.80.219/purview-sqlmi-db/dbo/MovCustomers\"}], \"parent\": {\"displayText\": \"Package\\\\Data Flow Task\", \"relationshipAttributes\": {\"typeName\": \"legacy_ssis_package_process_parent\"}, \"relationshipType\": \"legacy_ssis_package_process_parent\", \"typeName\": \"legacy_ssis_package\"}}, \"status\": \"ACTIVE\", \"typeName\": \"legacy_ssis_package_process\"}]"
        }
      ],
      "metadata": {
        "jupyter": {
          "source_hidden": false,
          "outputs_hidden": false
        },
        "nteract": {
          "transient": {
            "deleting": false
          }
        },
        "collapsed": true
      },
      "source": [
        "# Test Output\r\n",
        "log_msgs('TRACE', concat_transform_str)"
      ]
    },
    {
      "cell_type": "markdown",
      "metadata": {
        "nteract": {
          "transient": {
            "deleting": false
          }
        }
      },
      "source": [
        "## Copy JSON to ADLS"
      ]
    },
    {
      "cell_type": "code",
      "execution_count": null,
      "outputs": [
        {
          "output_type": "display_data",
          "data": {
            "application/vnd.livy.statement-meta+json": {
              "spark_pool": "notebookrun",
              "session_id": 22,
              "statement_id": 108,
              "state": "finished",
              "livy_statement_state": "available",
              "queued_time": "2021-08-24T17:17:10.1737554Z",
              "session_start_time": null,
              "execution_start_time": "2021-08-24T17:17:10.25911Z",
              "execution_finish_time": "2021-08-24T17:17:13.0213465Z"
            },
            "text/plain": "StatementMeta(notebookrun, 22, 108, Finished, Available)"
          },
          "metadata": {}
        },
        {
          "output_type": "display_data",
          "data": {
            "text/plain": "True"
          },
          "metadata": {}
        },
        {
          "output_type": "execute_result",
          "data": {},
          "execution_count": 195,
          "metadata": {}
        }
      ],
      "metadata": {
        "jupyter": {
          "source_hidden": false,
          "outputs_hidden": false
        },
        "nteract": {
          "transient": {
            "deleting": false
          }
        },
        "collapsed": true
      },
      "source": [
        "# Write result file\r\n",
        "mssparkutils.fs.put(result_blob_path, concat_transform_str, overwrite=True)"
      ]
    }
  ],
  "metadata": {
    "kernelspec": {
      "name": "synapse_pyspark",
      "display_name": "Synapse PySpark"
    },
    "language_info": {
      "name": "python"
    }
  }
}